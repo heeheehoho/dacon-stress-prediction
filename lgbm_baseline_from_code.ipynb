{
 "cells": [
  {
   "cell_type": "code",
   "execution_count": 1,
   "id": "5ac80fa4",
   "metadata": {},
   "outputs": [],
   "source": [
    "# 1. 라이브러리 불러오기\n",
    "import pandas as pd\n",
    "import lightgbm as lgb\n",
    "from sklearn.model_selection import train_test_split\n",
    "from sklearn.metrics import mean_absolute_error\n",
    "from sklearn.preprocessing import LabelEncoder\n",
    "\n",
    "# 2. 데이터 불러오기\n",
    "train = pd.read_csv('./data/train.csv')\n",
    "test = pd.read_csv('./data/test.csv')\n",
    "sample_submission = pd.read_csv('./data/sample_submission.csv')\n",
    "\n",
    "# 3. 결측치 처리\n",
    "fillna_cat_cols = ['medical_history', 'family_medical_history', 'edu_level']\n",
    "for col in fillna_cat_cols:\n",
    "    train[col] = train[col].fillna('Missing')\n",
    "    test[col] = test[col].fillna('Missing')\n",
    "\n",
    "train['mean_working'] = train['mean_working'].fillna(train['mean_working'].median())\n",
    "test['mean_working'] = test['mean_working'].fillna(train['mean_working'].median())\n",
    "\n",
    "# 4. 파생 피처 생성 함수 정의\n",
    "def encode_sleep(sleep):\n",
    "    if sleep == 'normal':\n",
    "        return 0\n",
    "    elif sleep == 'sleep difficulty':\n",
    "        return 1\n",
    "    elif sleep == 'oversleeping':\n",
    "        return 0.5\n",
    "    else:\n",
    "        return 0.5\n",
    "\n",
    "def encode_activity(activity):\n",
    "    if activity == 'light':\n",
    "        return 0.5\n",
    "    elif activity == 'moderate':\n",
    "        return 1\n",
    "    elif activity == 'intense':\n",
    "        return 1.5\n",
    "    else:\n",
    "        return 1\n",
    "\n",
    "def add_features(df):\n",
    "    # BMI\n",
    "    df['bmi'] = df['weight'] / (df['height'] / 100) ** 2\n",
    "    # 혈압차이\n",
    "    df['bp_diff'] = df['systolic_blood_pressure'] - df['diastolic_blood_pressure']\n",
    "    # 근무시간 구간\n",
    "    df['working_group'] = pd.cut(df['mean_working'], bins=[-1, 0, 20, 40, 60, 168], labels=[0, 1, 2, 3, 4])\n",
    "    # 병력/가족력 스코어\n",
    "    df['has_medical_history'] = df['medical_history'].notnull().astype(int)\n",
    "    df['has_family_history'] = df['family_medical_history'].notnull().astype(int)\n",
    "    df['health_risk_score'] = df['has_medical_history'] + df['has_family_history']\n",
    "    # lifestyle score\n",
    "    df['lifestyle_score'] = df.apply(\n",
    "        lambda row: encode_activity(row['activity']) - encode_sleep(row['sleep_pattern']),\n",
    "        axis=1\n",
    "    )\n",
    "    return df\n",
    "\n",
    "# 파생 피처 적용\n",
    "train = add_features(train)\n",
    "test = add_features(test)\n",
    "\n",
    "# 5. 범주형 인코딩\n",
    "cat_cols = train.select_dtypes(include='object').drop(columns='ID').columns\n",
    "\n",
    "for col in cat_cols:\n",
    "    le = LabelEncoder()\n",
    "    le.fit(pd.concat([train[col], test[col]]).astype(str))\n",
    "    train[col] = le.transform(train[col].astype(str))\n",
    "    test[col] = le.transform(test[col].astype(str))\n",
    "\n",
    "# 6. 피처 및 타겟 정의\n",
    "X = train.drop(columns=['ID', 'stress_score'])\n",
    "y = train['stress_score']\n",
    "X_test = test.drop(columns=['ID'])\n"
   ]
  },
  {
   "cell_type": "code",
   "execution_count": 2,
   "id": "590d2e8f",
   "metadata": {},
   "outputs": [],
   "source": [
    "# 6. 데이터 분할\n",
    "X_train, X_valid, y_train, y_valid = train_test_split(X, y, test_size=0.2, random_state=42)\n",
    "\n",
    "# 범주형 컬럼들을 category에서 int로 변환 (XGBoost 용)\n",
    "X_train_xgb = X_train.copy()\n",
    "X_valid_xgb = X_valid.copy()\n",
    "\n",
    "for col in X_train_xgb.select_dtypes(['category']).columns:\n",
    "    X_train_xgb[col] = X_train_xgb[col].cat.codes\n",
    "    X_valid_xgb[col] = X_valid_xgb[col].cat.codes"
   ]
  },
  {
   "cell_type": "code",
   "execution_count": 7,
   "id": "c656d72f",
   "metadata": {},
   "outputs": [],
   "source": [
    "# 생략 가능: 이미 int로 되어 있음\n",
    "X_train_xgb = X_train.copy()\n",
    "X_valid_xgb = X_valid.copy()\n",
    "X_test_xgb = X_test.copy()\n"
   ]
  },
  {
   "cell_type": "code",
   "execution_count": 4,
   "id": "e9c66efc",
   "metadata": {},
   "outputs": [
    {
     "name": "stdout",
     "output_type": "stream",
     "text": [
      "[LightGBM] [Info] Auto-choosing row-wise multi-threading, the overhead of testing was 0.000216 seconds.\n",
      "You can set `force_row_wise=true` to remove the overhead.\n",
      "And if memory is not enough, you can set `force_col_wise=true`.\n",
      "[LightGBM] [Info] Total Bins 1790\n",
      "[LightGBM] [Info] Number of data points in the train set: 2400, number of used features: 19\n",
      "[LightGBM] [Info] Start training from score 0.481912\n"
     ]
    }
   ],
   "source": [
    "import lightgbm as lgb\n",
    "import xgboost as xgb\n",
    "from sklearn.metrics import mean_absolute_error\n",
    "\n",
    "# ✅ LightGBM 최적 모델 (이전에 튜닝된 best params 사용)\n",
    "lgb_model = lgb.LGBMRegressor(\n",
    "    colsample_bytree=0.8,\n",
    "    learning_rate=0.1,\n",
    "    max_depth=-1,\n",
    "    n_estimators=500,\n",
    "    num_leaves=63,\n",
    "    subsample=0.8,\n",
    "    random_state=42\n",
    ")\n",
    "lgb_model.fit(X_train, y_train)\n",
    "lgb_val_pred = lgb_model.predict(X_valid)\n",
    "lgb_test_pred = lgb_model.predict(X_test)\n",
    "\n",
    "X_test_xgb = X_test.copy()\n",
    "\n",
    "# ✅ XGBoost 최적 모델 (튜닝된 best params 기반)\n",
    "xgb_model = xgb.XGBRegressor(\n",
    "    colsample_bytree=0.8,\n",
    "    learning_rate=0.1,\n",
    "    max_depth=6,\n",
    "    n_estimators=500,\n",
    "    subsample=0.8,\n",
    "    random_state=42\n",
    ")\n",
    "xgb_model.fit(X_train_xgb, y_train)\n",
    "xgb_val_pred = xgb_model.predict(X_valid_xgb)\n",
    "xgb_test_pred = xgb_model.predict(X_test_xgb)\n",
    "\n",
    "# ✅ 앙상블 (평균)\n",
    "ensemble_val_pred = (lgb_val_pred + xgb_val_pred) / 2\n",
    "ensemble_test_pred = (lgb_test_pred + xgb_test_pred) / 2\n",
    "\n",
    "\n"
   ]
  },
  {
   "cell_type": "code",
   "execution_count": 5,
   "id": "7544c3ed",
   "metadata": {},
   "outputs": [
    {
     "name": "stdout",
     "output_type": "stream",
     "text": [
      "LGBM MAE: 0.1637\n",
      "XGB MAE: 0.1642\n",
      "Ensemble MAE: 0.1604\n"
     ]
    }
   ],
   "source": [
    "# 8. 검증 점수 출력\n",
    "from sklearn.metrics import mean_absolute_error\n",
    "\n",
    "ensemble_val_pred = (lgb_val_pred + xgb_val_pred) / 2\n",
    "mae = mean_absolute_error(y_valid, ensemble_val_pred)\n",
    "print(f\"LGBM MAE: {mean_absolute_error(y_valid, lgb_val_pred):.4f}\")\n",
    "print(f\"XGB MAE: {mean_absolute_error(y_valid, xgb_val_pred):.4f}\")\n",
    "print(f\"Ensemble MAE: {mean_absolute_error(y_valid, ensemble_val_pred):.4f}\")\n"
   ]
  },
  {
   "cell_type": "code",
   "execution_count": 6,
   "id": "c9020127",
   "metadata": {},
   "outputs": [],
   "source": [
    "# 9. 위에서 predict()한 결과를 합치는 것\n",
    "\n",
    "ensemble_test_pred = (lgb_test_pred + xgb_test_pred) / 2"
   ]
  },
  {
   "cell_type": "code",
   "execution_count": 20,
   "id": "ae7a983e",
   "metadata": {},
   "outputs": [
    {
     "name": "stdout",
     "output_type": "stream",
     "text": [
      "✅ 앙상블 제출 파일 저장 완료: ensemble_submission.csv\n"
     ]
    }
   ],
   "source": [
    "# 10. 제출 파일 생성\n",
    "submission = sample_submission.copy()\n",
    "submission['stress_score'] = ensemble_test_pred\n",
    "submission.to_csv('ensemble_submission.csv', index=False)\n",
    "print(\"✅ 앙상블 제출 파일 저장 완료: ensemble_submission.csv\")"
   ]
  }
 ],
 "metadata": {
  "kernelspec": {
   "display_name": ".venv",
   "language": "python",
   "name": "python3"
  },
  "language_info": {
   "codemirror_mode": {
    "name": "ipython",
    "version": 3
   },
   "file_extension": ".py",
   "mimetype": "text/x-python",
   "name": "python",
   "nbconvert_exporter": "python",
   "pygments_lexer": "ipython3",
   "version": "3.10.13"
  }
 },
 "nbformat": 4,
 "nbformat_minor": 5
}
