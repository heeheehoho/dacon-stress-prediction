{
 "cells": [
  {
   "cell_type": "code",
   "execution_count": 17,
   "id": "253a1971",
   "metadata": {},
   "outputs": [],
   "source": [
    "# 1. 라이브러리 불러오기\n",
    "import pandas as pd\n",
    "import lightgbm as lgb\n",
    "from sklearn.model_selection import train_test_split\n",
    "from sklearn.metrics import mean_absolute_error"
   ]
  },
  {
   "cell_type": "code",
   "execution_count": 18,
   "id": "17c9ccd0",
   "metadata": {},
   "outputs": [],
   "source": [
    "# 2. 데이터 불러오기\n",
    "train = pd.read_csv('./data/train.csv')\n",
    "test = pd.read_csv('./data/test.csv')\n",
    "sample_submission = pd.read_csv('./data/sample_submission.csv')"
   ]
  },
  {
   "cell_type": "code",
   "execution_count": null,
   "id": "e1f4f40c",
   "metadata": {},
   "outputs": [],
   "source": [
    "# 결측치 확인\n",
    "print(\"🧼 Train 결측치 개수:\")\n",
    "print(train.isnull().sum())\n",
    "\n",
    "print(\"\\n🧼 Test 결측치 개수:\")\n",
    "print(test.isnull().sum())\n",
    "\n",
    "# 또는 한눈에 보기\n",
    "import matplotlib.pyplot as plt\n",
    "import seaborn as sns\n",
    "\n",
    "plt.figure(figsize=(10, 4))\n",
    "sns.heatmap(train.isnull(), cbar=False)\n",
    "plt.title(\"Train 결측치 분포\")\n",
    "plt.show()\n"
   ]
  },
  {
   "cell_type": "code",
   "execution_count": 20,
   "id": "79aa996d",
   "metadata": {},
   "outputs": [],
   "source": [
    "# 3. 결측치 처리\n",
    "fillna_cat_cols = ['medical_history', 'family_medical_history', 'edu_level']\n",
    "for col in fillna_cat_cols:\n",
    "    train[col] = train[col].fillna('Missing')\n",
    "    test[col] = test[col].fillna('Missing')"
   ]
  },
  {
   "cell_type": "code",
   "execution_count": 21,
   "id": "2f31adf1",
   "metadata": {},
   "outputs": [],
   "source": [
    "train['mean_working'] = train['mean_working'].fillna(train['mean_working'].median())\n",
    "test['mean_working'] = test['mean_working'].fillna(train['mean_working'].median())"
   ]
  },
  {
   "cell_type": "code",
   "execution_count": 22,
   "id": "9655830c",
   "metadata": {},
   "outputs": [],
   "source": [
    "# 4. 인코딩\n",
    "from sklearn.preprocessing import LabelEncoder"
   ]
  },
  {
   "cell_type": "code",
   "execution_count": 23,
   "id": "521caa9a",
   "metadata": {},
   "outputs": [],
   "source": [
    "cat_cols = train.select_dtypes(include='object').drop(columns='ID').columns\n",
    "for col in cat_cols:\n",
    "    le = LabelEncoder()\n",
    "    le.fit(pd.concat([train[col], test[col]]))\n",
    "    train[col] = le.transform(train[col])\n",
    "    test[col] = le.transform(test[col])"
   ]
  },
  {
   "cell_type": "code",
   "execution_count": 24,
   "id": "9730bfc2",
   "metadata": {},
   "outputs": [],
   "source": [
    "# 5. 피처 및 타겟 정의\n",
    "X = train.drop(columns=['ID', 'stress_score'])\n",
    "y = train['stress_score']\n",
    "X_test = test.drop(columns=['ID'])"
   ]
  },
  {
   "cell_type": "code",
   "execution_count": 25,
   "id": "39242b6f",
   "metadata": {},
   "outputs": [],
   "source": [
    "# 6. 데이터 분할\n",
    "X_train, X_valid, y_train, y_valid = train_test_split(X, y, test_size=0.2, random_state=42)"
   ]
  },
  {
   "cell_type": "code",
   "execution_count": 26,
   "id": "590d2e8f",
   "metadata": {},
   "outputs": [],
   "source": [
    "# 범주형 컬럼들을 category에서 int로 변환 (XGBoost 용)\n",
    "X_train_xgb = X_train.copy()\n",
    "X_valid_xgb = X_valid.copy()\n",
    "\n",
    "for col in X_train_xgb.select_dtypes(['category']).columns:\n",
    "    X_train_xgb[col] = X_train_xgb[col].cat.codes\n",
    "    X_valid_xgb[col] = X_valid_xgb[col].cat.codes"
   ]
  },
  {
   "cell_type": "code",
   "execution_count": 28,
   "id": "e9c66efc",
   "metadata": {},
   "outputs": [
    {
     "name": "stdout",
     "output_type": "stream",
     "text": [
      "[LightGBM] [Info] Auto-choosing col-wise multi-threading, the overhead of testing was 0.000286 seconds.\n",
      "You can set `force_col_wise=true` to remove the overhead.\n",
      "[LightGBM] [Info] Total Bins 1449\n",
      "[LightGBM] [Info] Number of data points in the train set: 2400, number of used features: 16\n",
      "[LightGBM] [Info] Start training from score 0.481912\n"
     ]
    }
   ],
   "source": [
    "import lightgbm as lgb\n",
    "import xgboost as xgb\n",
    "from sklearn.metrics import mean_absolute_error\n",
    "\n",
    "# ✅ LightGBM 최적 모델 (이전에 튜닝된 best params 사용)\n",
    "lgb_model = lgb.LGBMRegressor(\n",
    "    colsample_bytree=0.8,\n",
    "    learning_rate=0.1,\n",
    "    max_depth=-1,\n",
    "    n_estimators=500,\n",
    "    num_leaves=63,\n",
    "    subsample=0.8,\n",
    "    random_state=42\n",
    ")\n",
    "lgb_model.fit(X_train, y_train)\n",
    "lgb_val_pred = lgb_model.predict(X_valid)\n",
    "lgb_test_pred = lgb_model.predict(X_test)\n",
    "\n",
    "# ✅ XGBoost 데이터 전처리 (category → int)\n",
    "X_train_xgb = X_train.copy()\n",
    "X_valid_xgb = X_valid.copy()\n",
    "X_test_xgb = X_test.copy()\n",
    "for col in X_train_xgb.select_dtypes(['category']).columns:\n",
    "    X_train_xgb[col] = X_train_xgb[col].cat.codes\n",
    "    X_valid_xgb[col] = X_valid_xgb[col].cat.codes\n",
    "    X_test_xgb[col] = X_test_xgb[col].cat.codes\n",
    "\n",
    "# ✅ XGBoost 최적 모델 (튜닝된 best params 기반)\n",
    "xgb_model = xgb.XGBRegressor(\n",
    "    colsample_bytree=0.8,\n",
    "    learning_rate=0.1,\n",
    "    max_depth=6,\n",
    "    n_estimators=500,\n",
    "    subsample=0.8,\n",
    "    random_state=42\n",
    ")\n",
    "xgb_model.fit(X_train_xgb, y_train)\n",
    "xgb_val_pred = xgb_model.predict(X_valid_xgb)\n",
    "xgb_test_pred = xgb_model.predict(X_test_xgb)\n",
    "\n",
    "# ✅ 앙상블 (평균)\n",
    "ensemble_val_pred = (lgb_val_pred + xgb_val_pred) / 2\n",
    "ensemble_test_pred = (lgb_test_pred + xgb_test_pred) / 2\n",
    "\n",
    "\n"
   ]
  },
  {
   "cell_type": "code",
   "execution_count": 29,
   "id": "7544c3ed",
   "metadata": {},
   "outputs": [
    {
     "name": "stdout",
     "output_type": "stream",
     "text": [
      "🎯 앙상블 Validation MAE: 0.1654\n"
     ]
    }
   ],
   "source": [
    "# 8. 검증 점수 출력\n",
    "from sklearn.metrics import mean_absolute_error\n",
    "\n",
    "ensemble_val_pred = (lgb_val_pred + xgb_val_pred) / 2\n",
    "mae = mean_absolute_error(y_valid, ensemble_val_pred)\n",
    "print(f\"🎯 앙상블 Validation MAE: {mae:.4f}\")\n"
   ]
  },
  {
   "cell_type": "code",
   "execution_count": 30,
   "id": "c9020127",
   "metadata": {},
   "outputs": [],
   "source": [
    "# 9. 테스트 데이터 예측\n",
    "lgb_test_pred = lgb_model.predict(X_test)\n",
    "xgb_test_pred = xgb_model.predict(X_test_xgb)\n",
    "\n",
    "ensemble_test_pred = (lgb_test_pred + xgb_test_pred) / 2"
   ]
  },
  {
   "cell_type": "code",
   "execution_count": 31,
   "id": "ae7a983e",
   "metadata": {},
   "outputs": [
    {
     "name": "stdout",
     "output_type": "stream",
     "text": [
      "✅ 앙상블 제출 파일 저장 완료: ensemble_submission.csv\n"
     ]
    }
   ],
   "source": [
    "# 10. 제출 파일 생성\n",
    "submission = sample_submission.copy()\n",
    "submission['stress_score'] = ensemble_test_pred\n",
    "submission.to_csv('ensemble_submission.csv', index=False)\n",
    "print(\"✅ 앙상블 제출 파일 저장 완료: ensemble_submission.csv\")"
   ]
  }
 ],
 "metadata": {
  "kernelspec": {
   "display_name": "Python 3",
   "language": "python",
   "name": "python3"
  },
  "language_info": {
   "codemirror_mode": {
    "name": "ipython",
    "version": 3
   },
   "file_extension": ".py",
   "mimetype": "text/x-python",
   "name": "python",
   "nbconvert_exporter": "python",
   "pygments_lexer": "ipython3",
   "version": "3.10.18"
  }
 },
 "nbformat": 4,
 "nbformat_minor": 5
}
